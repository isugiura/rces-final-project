{
 "cells": [
  {
   "cell_type": "markdown",
   "id": "4761a0dd-7ad1-4e6d-af78-0fb439948b94",
   "metadata": {},
   "source": [
    "# RCES Final Project"
   ]
  },
  {
   "cell_type": "code",
   "execution_count": 1,
   "id": "69f2ba8f-22fa-4c9c-828a-e19576d1b602",
   "metadata": {},
   "outputs": [],
   "source": [
    "h = 'hello'"
   ]
  },
  {
   "cell_type": "code",
   "execution_count": 2,
   "id": "f2dfe726-f260-4b93-9c7c-ab0a439a8415",
   "metadata": {},
   "outputs": [
    {
     "data": {
      "text/plain": [
       "'hello'"
      ]
     },
     "execution_count": 2,
     "metadata": {},
     "output_type": "execute_result"
    }
   ],
   "source": [
    "h"
   ]
  },
  {
   "cell_type": "code",
   "execution_count": 3,
   "id": "2fdf7433-b271-4a7d-b06c-c29faa1bfca5",
   "metadata": {},
   "outputs": [],
   "source": [
    "import numpy as np"
   ]
  },
  {
   "cell_type": "code",
   "execution_count": 4,
   "id": "8383596e-766c-4b29-ae00-78e2f08f4d22",
   "metadata": {},
   "outputs": [],
   "source": [
    "import pandas as pd"
   ]
  },
  {
   "cell_type": "code",
   "execution_count": null,
   "id": "c5954e32-4b3d-4097-bf6a-5ea6dce1b529",
   "metadata": {},
   "outputs": [],
   "source": []
  }
 ],
 "metadata": {
  "kernelspec": {
   "display_name": "Python 3 (ipykernel)",
   "language": "python",
   "name": "python3"
  },
  "language_info": {
   "codemirror_mode": {
    "name": "ipython",
    "version": 3
   },
   "file_extension": ".py",
   "mimetype": "text/x-python",
   "name": "python",
   "nbconvert_exporter": "python",
   "pygments_lexer": "ipython3",
   "version": "3.9.13"
  }
 },
 "nbformat": 4,
 "nbformat_minor": 5
}
