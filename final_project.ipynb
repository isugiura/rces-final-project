{
 "cells": [
  {
   "cell_type": "markdown",
   "id": "4761a0dd-7ad1-4e6d-af78-0fb439948b94",
   "metadata": {},
   "source": [
    "# RCES Final Project"
   ]
  },
  {
   "cell_type": "code",
   "execution_count": 1,
   "id": "69f2ba8f-22fa-4c9c-828a-e19576d1b602",
   "metadata": {},
   "outputs": [],
   "source": [
    "h = 'hello'"
   ]
  },
  {
   "cell_type": "code",
   "execution_count": null,
   "id": "f2dfe726-f260-4b93-9c7c-ab0a439a8415",
   "metadata": {},
   "outputs": [],
   "source": []
  }
 ],
 "metadata": {
  "kernelspec": {
   "display_name": "Python 3 (ipykernel)",
   "language": "python",
   "name": "python3"
  },
  "language_info": {
   "codemirror_mode": {
    "name": "ipython",
    "version": 3
   },
   "file_extension": ".py",
   "mimetype": "text/x-python",
   "name": "python",
   "nbconvert_exporter": "python",
   "pygments_lexer": "ipython3",
   "version": "3.9.13"
  }
 },
 "nbformat": 4,
 "nbformat_minor": 5
}
